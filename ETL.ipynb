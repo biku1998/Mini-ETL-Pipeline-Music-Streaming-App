{
 "cells": [
  {
   "cell_type": "markdown",
   "metadata": {},
   "source": [
    "## In this notebook we will see how to perform Extract Transform Load Operation"
   ]
  },
  {
   "cell_type": "code",
   "execution_count": 77,
   "metadata": {},
   "outputs": [],
   "source": [
    "import os\n",
    "import glob # for file pattern searching\n",
    "import pandas as pd\n",
    "import numpy as np\n",
    "from Sql_Queries import * # contains DDL and DML queries\n",
    "import mysql.connector # for database"
   ]
  },
  {
   "cell_type": "code",
   "execution_count": 78,
   "metadata": {},
   "outputs": [],
   "source": [
    "# Connecting to the database\n",
    "Sparkify_db = mysql.connector.connect(\n",
    "host = \"localhost\",\n",
    "user = \"root\",\n",
    "password = \"rootuser\",\n",
    "database = \"SparkifyDB\"\n",
    ")\n",
    "\n",
    "cur = Sparkify_db.cursor()"
   ]
  },
  {
   "cell_type": "code",
   "execution_count": 79,
   "metadata": {},
   "outputs": [],
   "source": [
    "PATH = \"data/song_data\""
   ]
  },
  {
   "cell_type": "code",
   "execution_count": 80,
   "metadata": {},
   "outputs": [],
   "source": [
    "def get_files(filepath,pattern):\n",
    "    all_files = []\n",
    "    for root,dirs,files in os.walk(filepath):\n",
    "        files = glob.glob(os.path.join(root,pattern))\n",
    "        for f in files:\n",
    "            all_files.append(os.path.abspath(f))\n",
    "    return all_files "
   ]
  },
  {
   "cell_type": "markdown",
   "execution_count": 5,
   "metadata": {},
   "outputs": [
    {
     "name": "stdout",
     "output_type": "stream",
     "text": "Hello\n"
    }
   ],
   "source": [
    "## Process Song Data\n",
    "### ETL on Song Data to add a single record into DB\n",
    "    1. Using the get_files function get a lost of all the SOng JSON files in data/song_data\n",
    "    2. Select the first song in the list\n",
    "    3. Read the song file and view the data"
   ]
  },
  {
   "cell_type": "code",
   "execution_count": 81,
   "metadata": {},
   "outputs": [],
   "source": [
    "song_files = get_files(filepath=PATH,pattern=\"*.json\")"
   ]
  },
  {
   "cell_type": "code",
   "execution_count": 82,
   "metadata": {},
   "outputs": [
    {
     "data": {
      "text/plain": "'e:\\\\Udacity_Data_Eng_NanoDegree\\\\Relational_database_Project_1\\\\data\\\\song_data\\\\A\\\\A\\\\A\\\\TRAAAAW128F429D538.json'"
     },
     "execution_count": 82,
     "metadata": {},
     "output_type": "execute_result"
    }
   ],
   "source": [
    "song_files[0]"
   ]
  },
  {
   "cell_type": "code",
   "execution_count": 83,
   "metadata": {},
   "outputs": [
    {
     "name": "stdout",
     "output_type": "stream",
     "text": "e:\\Udacity_Data_Eng_NanoDegree\\Relational_database_Project_1\\data\\song_data\\A\\A\\A\\TRAAABD128F429CF47.json\n"
    }
   ],
   "source": [
    "filepath = song_files[1]\n",
    "print(filepath)"
   ]
  },
  {
   "cell_type": "code",
   "execution_count": 84,
   "metadata": {},
   "outputs": [],
   "source": [
    "df = pd.read_json(filepath,lines=True)"
   ]
  },
  {
   "cell_type": "code",
   "execution_count": 85,
   "metadata": {},
   "outputs": [
    {
     "data": {
      "text/html": "<div>\n<style scoped>\n    .dataframe tbody tr th:only-of-type {\n        vertical-align: middle;\n    }\n\n    .dataframe tbody tr th {\n        vertical-align: top;\n    }\n\n    .dataframe thead th {\n        text-align: right;\n    }\n</style>\n<table border=\"1\" class=\"dataframe\">\n  <thead>\n    <tr style=\"text-align: right;\">\n      <th></th>\n      <th>artist_id</th>\n      <th>artist_latitude</th>\n      <th>artist_location</th>\n      <th>artist_longitude</th>\n      <th>artist_name</th>\n      <th>duration</th>\n      <th>num_songs</th>\n      <th>song_id</th>\n      <th>title</th>\n      <th>year</th>\n    </tr>\n  </thead>\n  <tbody>\n    <tr>\n      <th>0</th>\n      <td>ARMJAGH1187FB546F3</td>\n      <td>35.14968</td>\n      <td>Memphis, TN</td>\n      <td>-90.04892</td>\n      <td>The Box Tops</td>\n      <td>148.03546</td>\n      <td>1</td>\n      <td>SOCIWDW12A8C13D406</td>\n      <td>Soul Deep</td>\n      <td>1969</td>\n    </tr>\n  </tbody>\n</table>\n</div>",
      "text/plain": "            artist_id  artist_latitude artist_location  artist_longitude  \\\n0  ARMJAGH1187FB546F3         35.14968     Memphis, TN         -90.04892   \n\n    artist_name   duration  num_songs             song_id      title  year  \n0  The Box Tops  148.03546          1  SOCIWDW12A8C13D406  Soul Deep  1969  "
     },
     "execution_count": 85,
     "metadata": {},
     "output_type": "execute_result"
    }
   ],
   "source": [
    "df"
   ]
  },
  {
   "cell_type": "markdown",
   "execution_count": null,
   "metadata": {},
   "outputs": [],
   "source": [
    "### Now we will extract data for song table."
   ]
  },
  {
   "cell_type": "code",
   "execution_count": 86,
   "metadata": {},
   "outputs": [
    {
     "name": "stdout",
     "output_type": "stream",
     "text": "<class 'pandas.core.frame.DataFrame'>\nRangeIndex: 1 entries, 0 to 0\nData columns (total 10 columns):\nartist_id           1 non-null object\nartist_latitude     1 non-null float64\nartist_location     1 non-null object\nartist_longitude    1 non-null float64\nartist_name         1 non-null object\nduration            1 non-null float64\nnum_songs           1 non-null int64\nsong_id             1 non-null object\ntitle               1 non-null object\nyear                1 non-null int64\ndtypes: float64(3), int64(2), object(5)\nmemory usage: 160.0+ bytes\n"
    }
   ],
   "source": [
    "df.info()"
   ]
  },
  {
   "cell_type": "code",
   "execution_count": 87,
   "metadata": {},
   "outputs": [],
   "source": [
    "song_data = df[['song_id','title','artist_id','year','duration']].values[0].tolist()"
   ]
  },
  {
   "cell_type": "code",
   "execution_count": 88,
   "metadata": {},
   "outputs": [
    {
     "data": {
      "text/plain": "['SOCIWDW12A8C13D406', 'Soul Deep', 'ARMJAGH1187FB546F3', 1969, 148.03546]"
     },
     "execution_count": 88,
     "metadata": {},
     "output_type": "execute_result"
    }
   ],
   "source": [
    "song_data"
   ]
  },
  {
   "cell_type": "code",
   "execution_count": 89,
   "metadata": {},
   "outputs": [
    {
     "data": {
      "text/plain": "'\\nINSERT IGNORE INTO songs (song_id, title, artist_id, year, duration)\\nVALUES (%s, %s, %s, %s, %s);\\n'"
     },
     "execution_count": 89,
     "metadata": {},
     "output_type": "execute_result"
    }
   ],
   "source": [
    "song_table_insert # insert query from the query file"
   ]
  },
  {
   "cell_type": "code",
   "execution_count": 90,
   "metadata": {},
   "outputs": [],
   "source": [
    "try:\n",
    "    cur.execute(song_table_insert,song_data)\n",
    "    Sparkify_db.commit()\n",
    "except Exception as e:\n",
    "    print(e)"
   ]
  },
  {
   "cell_type": "markdown",
   "execution_count": null,
   "metadata": {},
   "outputs": [],
   "source": [
    "## ETL for Artist table"
   ]
  },
  {
   "cell_type": "code",
   "execution_count": 91,
   "metadata": {},
   "outputs": [
    {
     "data": {
      "text/html": "<div>\n<style scoped>\n    .dataframe tbody tr th:only-of-type {\n        vertical-align: middle;\n    }\n\n    .dataframe tbody tr th {\n        vertical-align: top;\n    }\n\n    .dataframe thead th {\n        text-align: right;\n    }\n</style>\n<table border=\"1\" class=\"dataframe\">\n  <thead>\n    <tr style=\"text-align: right;\">\n      <th></th>\n      <th>artist_id</th>\n      <th>artist_latitude</th>\n      <th>artist_location</th>\n      <th>artist_longitude</th>\n      <th>artist_name</th>\n      <th>duration</th>\n      <th>num_songs</th>\n      <th>song_id</th>\n      <th>title</th>\n      <th>year</th>\n    </tr>\n  </thead>\n  <tbody>\n    <tr>\n      <th>0</th>\n      <td>ARMJAGH1187FB546F3</td>\n      <td>35.14968</td>\n      <td>Memphis, TN</td>\n      <td>-90.04892</td>\n      <td>The Box Tops</td>\n      <td>148.03546</td>\n      <td>1</td>\n      <td>SOCIWDW12A8C13D406</td>\n      <td>Soul Deep</td>\n      <td>1969</td>\n    </tr>\n  </tbody>\n</table>\n</div>",
      "text/plain": "            artist_id  artist_latitude artist_location  artist_longitude  \\\n0  ARMJAGH1187FB546F3         35.14968     Memphis, TN         -90.04892   \n\n    artist_name   duration  num_songs             song_id      title  year  \n0  The Box Tops  148.03546          1  SOCIWDW12A8C13D406  Soul Deep  1969  "
     },
     "execution_count": 91,
     "metadata": {},
     "output_type": "execute_result"
    }
   ],
   "source": [
    "df"
   ]
  },
  {
   "cell_type": "code",
   "execution_count": 92,
   "metadata": {},
   "outputs": [
    {
     "data": {
      "text/plain": "['ARMJAGH1187FB546F3', 'The Box Tops', 'Memphis, TN', 35.14968, -90.04892]"
     },
     "execution_count": 92,
     "metadata": {},
     "output_type": "execute_result"
    }
   ],
   "source": [
    "artist_data = df[[\"artist_id\", \"artist_name\", \"artist_location\", \"artist_latitude\", \"artist_longitude\"]].values[0].tolist()\n",
    "artist_data"
   ]
  },
  {
   "cell_type": "code",
   "execution_count": 93,
   "metadata": {},
   "outputs": [],
   "source": [
    "try:\n",
    "    cur.execute(artist_table_insert,artist_data)\n",
    "    Sparkify_db.commit()\n",
    "except Exception as e:\n",
    "    print(e)"
   ]
  },
  {
   "cell_type": "markdown",
   "execution_count": null,
   "metadata": {},
   "outputs": [],
   "source": [
    "# Process Log Data"
   ]
  },
  {
   "cell_type": "code",
   "execution_count": 94,
   "metadata": {},
   "outputs": [],
   "source": [
    "log_files = get_files(filepath=\"data/log_data\",pattern=\"*.json\")"
   ]
  },
  {
   "cell_type": "code",
   "execution_count": 95,
   "metadata": {},
   "outputs": [],
   "source": [
    "log_filepath = log_files[0]"
   ]
  },
  {
   "cell_type": "code",
   "execution_count": 96,
   "metadata": {},
   "outputs": [],
   "source": [
    "df_log = pd.read_json(log_filepath,lines=True)"
   ]
  },
  {
   "cell_type": "code",
   "execution_count": 97,
   "metadata": {},
   "outputs": [
    {
     "data": {
      "text/html": "<div>\n<style scoped>\n    .dataframe tbody tr th:only-of-type {\n        vertical-align: middle;\n    }\n\n    .dataframe tbody tr th {\n        vertical-align: top;\n    }\n\n    .dataframe thead th {\n        text-align: right;\n    }\n</style>\n<table border=\"1\" class=\"dataframe\">\n  <thead>\n    <tr style=\"text-align: right;\">\n      <th></th>\n      <th>artist</th>\n      <th>auth</th>\n      <th>firstName</th>\n      <th>gender</th>\n      <th>itemInSession</th>\n      <th>lastName</th>\n      <th>length</th>\n      <th>level</th>\n      <th>location</th>\n      <th>method</th>\n      <th>page</th>\n      <th>registration</th>\n      <th>sessionId</th>\n      <th>song</th>\n      <th>status</th>\n      <th>ts</th>\n      <th>userAgent</th>\n      <th>userId</th>\n    </tr>\n  </thead>\n  <tbody>\n    <tr>\n      <th>0</th>\n      <td>None</td>\n      <td>Logged In</td>\n      <td>Walter</td>\n      <td>M</td>\n      <td>0</td>\n      <td>Frye</td>\n      <td>NaN</td>\n      <td>free</td>\n      <td>San Francisco-Oakland-Hayward, CA</td>\n      <td>GET</td>\n      <td>Home</td>\n      <td>1540919166796</td>\n      <td>38</td>\n      <td>None</td>\n      <td>200</td>\n      <td>1541105830796</td>\n      <td>\"Mozilla/5.0 (Macintosh; Intel Mac OS X 10_9_4...</td>\n      <td>39</td>\n    </tr>\n    <tr>\n      <th>1</th>\n      <td>None</td>\n      <td>Logged In</td>\n      <td>Kaylee</td>\n      <td>F</td>\n      <td>0</td>\n      <td>Summers</td>\n      <td>NaN</td>\n      <td>free</td>\n      <td>Phoenix-Mesa-Scottsdale, AZ</td>\n      <td>GET</td>\n      <td>Home</td>\n      <td>1540344794796</td>\n      <td>139</td>\n      <td>None</td>\n      <td>200</td>\n      <td>1541106106796</td>\n      <td>\"Mozilla/5.0 (Windows NT 6.1; WOW64) AppleWebK...</td>\n      <td>8</td>\n    </tr>\n    <tr>\n      <th>2</th>\n      <td>Des'ree</td>\n      <td>Logged In</td>\n      <td>Kaylee</td>\n      <td>F</td>\n      <td>1</td>\n      <td>Summers</td>\n      <td>246.30812</td>\n      <td>free</td>\n      <td>Phoenix-Mesa-Scottsdale, AZ</td>\n      <td>PUT</td>\n      <td>NextSong</td>\n      <td>1540344794796</td>\n      <td>139</td>\n      <td>You Gotta Be</td>\n      <td>200</td>\n      <td>1541106106796</td>\n      <td>\"Mozilla/5.0 (Windows NT 6.1; WOW64) AppleWebK...</td>\n      <td>8</td>\n    </tr>\n    <tr>\n      <th>3</th>\n      <td>None</td>\n      <td>Logged In</td>\n      <td>Kaylee</td>\n      <td>F</td>\n      <td>2</td>\n      <td>Summers</td>\n      <td>NaN</td>\n      <td>free</td>\n      <td>Phoenix-Mesa-Scottsdale, AZ</td>\n      <td>GET</td>\n      <td>Upgrade</td>\n      <td>1540344794796</td>\n      <td>139</td>\n      <td>None</td>\n      <td>200</td>\n      <td>1541106132796</td>\n      <td>\"Mozilla/5.0 (Windows NT 6.1; WOW64) AppleWebK...</td>\n      <td>8</td>\n    </tr>\n    <tr>\n      <th>4</th>\n      <td>Mr Oizo</td>\n      <td>Logged In</td>\n      <td>Kaylee</td>\n      <td>F</td>\n      <td>3</td>\n      <td>Summers</td>\n      <td>144.03873</td>\n      <td>free</td>\n      <td>Phoenix-Mesa-Scottsdale, AZ</td>\n      <td>PUT</td>\n      <td>NextSong</td>\n      <td>1540344794796</td>\n      <td>139</td>\n      <td>Flat 55</td>\n      <td>200</td>\n      <td>1541106352796</td>\n      <td>\"Mozilla/5.0 (Windows NT 6.1; WOW64) AppleWebK...</td>\n      <td>8</td>\n    </tr>\n  </tbody>\n</table>\n</div>",
      "text/plain": "    artist       auth firstName gender  itemInSession lastName     length  \\\n0     None  Logged In    Walter      M              0     Frye        NaN   \n1     None  Logged In    Kaylee      F              0  Summers        NaN   \n2  Des'ree  Logged In    Kaylee      F              1  Summers  246.30812   \n3     None  Logged In    Kaylee      F              2  Summers        NaN   \n4  Mr Oizo  Logged In    Kaylee      F              3  Summers  144.03873   \n\n  level                           location method      page   registration  \\\n0  free  San Francisco-Oakland-Hayward, CA    GET      Home  1540919166796   \n1  free        Phoenix-Mesa-Scottsdale, AZ    GET      Home  1540344794796   \n2  free        Phoenix-Mesa-Scottsdale, AZ    PUT  NextSong  1540344794796   \n3  free        Phoenix-Mesa-Scottsdale, AZ    GET   Upgrade  1540344794796   \n4  free        Phoenix-Mesa-Scottsdale, AZ    PUT  NextSong  1540344794796   \n\n   sessionId          song  status             ts  \\\n0         38          None     200  1541105830796   \n1        139          None     200  1541106106796   \n2        139  You Gotta Be     200  1541106106796   \n3        139          None     200  1541106132796   \n4        139       Flat 55     200  1541106352796   \n\n                                           userAgent  userId  \n0  \"Mozilla/5.0 (Macintosh; Intel Mac OS X 10_9_4...      39  \n1  \"Mozilla/5.0 (Windows NT 6.1; WOW64) AppleWebK...       8  \n2  \"Mozilla/5.0 (Windows NT 6.1; WOW64) AppleWebK...       8  \n3  \"Mozilla/5.0 (Windows NT 6.1; WOW64) AppleWebK...       8  \n4  \"Mozilla/5.0 (Windows NT 6.1; WOW64) AppleWebK...       8  "
     },
     "execution_count": 97,
     "metadata": {},
     "output_type": "execute_result"
    }
   ],
   "source": [
    "df_log.head()"
   ]
  },
  {
   "cell_type": "code",
   "execution_count": 98,
   "metadata": {},
   "outputs": [
    {
     "name": "stdout",
     "output_type": "stream",
     "text": "<class 'pandas.core.frame.DataFrame'>\nRangeIndex: 15 entries, 0 to 14\nData columns (total 18 columns):\nartist           11 non-null object\nauth             15 non-null object\nfirstName        15 non-null object\ngender           15 non-null object\nitemInSession    15 non-null int64\nlastName         15 non-null object\nlength           11 non-null float64\nlevel            15 non-null object\nlocation         15 non-null object\nmethod           15 non-null object\npage             15 non-null object\nregistration     15 non-null int64\nsessionId        15 non-null int64\nsong             11 non-null object\nstatus           15 non-null int64\nts               15 non-null int64\nuserAgent        15 non-null object\nuserId           15 non-null int64\ndtypes: float64(1), int64(6), object(11)\nmemory usage: 2.2+ KB\n"
    }
   ],
   "source": [
    "df_log.info()"
   ]
  },
  {
   "cell_type": "code",
   "execution_count": 99,
   "metadata": {},
   "outputs": [
    {
     "data": {
      "text/plain": "0         Home\n1         Home\n2     NextSong\n3      Upgrade\n4     NextSong\n5     NextSong\n6     NextSong\n7     NextSong\n8     NextSong\n9     NextSong\n10    NextSong\n11        Home\n12    NextSong\n13    NextSong\n14    NextSong\nName: page, dtype: object"
     },
     "execution_count": 99,
     "metadata": {},
     "output_type": "execute_result"
    }
   ],
   "source": [
    "df_log['page']"
   ]
  },
  {
   "cell_type": "code",
   "execution_count": 100,
   "metadata": {},
   "outputs": [
    {
     "data": {
      "text/html": "<div>\n<style scoped>\n    .dataframe tbody tr th:only-of-type {\n        vertical-align: middle;\n    }\n\n    .dataframe tbody tr th {\n        vertical-align: top;\n    }\n\n    .dataframe thead th {\n        text-align: right;\n    }\n</style>\n<table border=\"1\" class=\"dataframe\">\n  <thead>\n    <tr style=\"text-align: right;\">\n      <th></th>\n      <th>artist</th>\n      <th>auth</th>\n      <th>firstName</th>\n      <th>gender</th>\n      <th>itemInSession</th>\n      <th>lastName</th>\n      <th>length</th>\n      <th>level</th>\n      <th>location</th>\n      <th>method</th>\n      <th>page</th>\n      <th>registration</th>\n      <th>sessionId</th>\n      <th>song</th>\n      <th>status</th>\n      <th>ts</th>\n      <th>userAgent</th>\n      <th>userId</th>\n    </tr>\n  </thead>\n  <tbody>\n    <tr>\n      <th>2</th>\n      <td>Des'ree</td>\n      <td>Logged In</td>\n      <td>Kaylee</td>\n      <td>F</td>\n      <td>1</td>\n      <td>Summers</td>\n      <td>246.30812</td>\n      <td>free</td>\n      <td>Phoenix-Mesa-Scottsdale, AZ</td>\n      <td>PUT</td>\n      <td>NextSong</td>\n      <td>1540344794796</td>\n      <td>139</td>\n      <td>You Gotta Be</td>\n      <td>200</td>\n      <td>1541106106796</td>\n      <td>\"Mozilla/5.0 (Windows NT 6.1; WOW64) AppleWebK...</td>\n      <td>8</td>\n    </tr>\n    <tr>\n      <th>4</th>\n      <td>Mr Oizo</td>\n      <td>Logged In</td>\n      <td>Kaylee</td>\n      <td>F</td>\n      <td>3</td>\n      <td>Summers</td>\n      <td>144.03873</td>\n      <td>free</td>\n      <td>Phoenix-Mesa-Scottsdale, AZ</td>\n      <td>PUT</td>\n      <td>NextSong</td>\n      <td>1540344794796</td>\n      <td>139</td>\n      <td>Flat 55</td>\n      <td>200</td>\n      <td>1541106352796</td>\n      <td>\"Mozilla/5.0 (Windows NT 6.1; WOW64) AppleWebK...</td>\n      <td>8</td>\n    </tr>\n    <tr>\n      <th>5</th>\n      <td>Tamba Trio</td>\n      <td>Logged In</td>\n      <td>Kaylee</td>\n      <td>F</td>\n      <td>4</td>\n      <td>Summers</td>\n      <td>177.18812</td>\n      <td>free</td>\n      <td>Phoenix-Mesa-Scottsdale, AZ</td>\n      <td>PUT</td>\n      <td>NextSong</td>\n      <td>1540344794796</td>\n      <td>139</td>\n      <td>Quem Quiser Encontrar O Amor</td>\n      <td>200</td>\n      <td>1541106496796</td>\n      <td>\"Mozilla/5.0 (Windows NT 6.1; WOW64) AppleWebK...</td>\n      <td>8</td>\n    </tr>\n    <tr>\n      <th>6</th>\n      <td>The Mars Volta</td>\n      <td>Logged In</td>\n      <td>Kaylee</td>\n      <td>F</td>\n      <td>5</td>\n      <td>Summers</td>\n      <td>380.42077</td>\n      <td>free</td>\n      <td>Phoenix-Mesa-Scottsdale, AZ</td>\n      <td>PUT</td>\n      <td>NextSong</td>\n      <td>1540344794796</td>\n      <td>139</td>\n      <td>Eriatarka</td>\n      <td>200</td>\n      <td>1541106673796</td>\n      <td>\"Mozilla/5.0 (Windows NT 6.1; WOW64) AppleWebK...</td>\n      <td>8</td>\n    </tr>\n    <tr>\n      <th>7</th>\n      <td>Infected Mushroom</td>\n      <td>Logged In</td>\n      <td>Kaylee</td>\n      <td>F</td>\n      <td>6</td>\n      <td>Summers</td>\n      <td>440.26730</td>\n      <td>free</td>\n      <td>Phoenix-Mesa-Scottsdale, AZ</td>\n      <td>PUT</td>\n      <td>NextSong</td>\n      <td>1540344794796</td>\n      <td>139</td>\n      <td>Becoming Insane</td>\n      <td>200</td>\n      <td>1541107053796</td>\n      <td>\"Mozilla/5.0 (Windows NT 6.1; WOW64) AppleWebK...</td>\n      <td>8</td>\n    </tr>\n  </tbody>\n</table>\n</div>",
      "text/plain": "              artist       auth firstName gender  itemInSession lastName  \\\n2            Des'ree  Logged In    Kaylee      F              1  Summers   \n4            Mr Oizo  Logged In    Kaylee      F              3  Summers   \n5         Tamba Trio  Logged In    Kaylee      F              4  Summers   \n6     The Mars Volta  Logged In    Kaylee      F              5  Summers   \n7  Infected Mushroom  Logged In    Kaylee      F              6  Summers   \n\n      length level                     location method      page  \\\n2  246.30812  free  Phoenix-Mesa-Scottsdale, AZ    PUT  NextSong   \n4  144.03873  free  Phoenix-Mesa-Scottsdale, AZ    PUT  NextSong   \n5  177.18812  free  Phoenix-Mesa-Scottsdale, AZ    PUT  NextSong   \n6  380.42077  free  Phoenix-Mesa-Scottsdale, AZ    PUT  NextSong   \n7  440.26730  free  Phoenix-Mesa-Scottsdale, AZ    PUT  NextSong   \n\n    registration  sessionId                          song  status  \\\n2  1540344794796        139                  You Gotta Be     200   \n4  1540344794796        139                       Flat 55     200   \n5  1540344794796        139  Quem Quiser Encontrar O Amor     200   \n6  1540344794796        139                     Eriatarka     200   \n7  1540344794796        139               Becoming Insane     200   \n\n              ts                                          userAgent  userId  \n2  1541106106796  \"Mozilla/5.0 (Windows NT 6.1; WOW64) AppleWebK...       8  \n4  1541106352796  \"Mozilla/5.0 (Windows NT 6.1; WOW64) AppleWebK...       8  \n5  1541106496796  \"Mozilla/5.0 (Windows NT 6.1; WOW64) AppleWebK...       8  \n6  1541106673796  \"Mozilla/5.0 (Windows NT 6.1; WOW64) AppleWebK...       8  \n7  1541107053796  \"Mozilla/5.0 (Windows NT 6.1; WOW64) AppleWebK...       8  "
     },
     "execution_count": 100,
     "metadata": {},
     "output_type": "execute_result"
    }
   ],
   "source": [
    "# filter the dataframe values in which page values is NextSong\n",
    "df_log = df_log.query(\"page == 'NextSong'\")\n",
    "df_log.head()"
   ]
  },
  {
   "cell_type": "code",
   "execution_count": 101,
   "metadata": {},
   "outputs": [
    {
     "data": {
      "text/plain": "2   2018-11-01 21:01:46.796\n4   2018-11-01 21:05:52.796\n5   2018-11-01 21:08:16.796\n6   2018-11-01 21:11:13.796\n7   2018-11-01 21:17:33.796\nName: ts, dtype: datetime64[ns]"
     },
     "execution_count": 101,
     "metadata": {},
     "output_type": "execute_result"
    }
   ],
   "source": [
    "# Let's Extract the data for our time table\n",
    "t = pd.to_datetime(df_log['ts'],unit='ms') # miliseconds to date and time stamp\n",
    "df_log['ts'] = pd.to_datetime(df_log['ts'],unit='ms')\n",
    "df_log['ts'].head()"
   ]
  },
  {
   "cell_type": "code",
   "execution_count": 102,
   "metadata": {},
   "outputs": [
    {
     "data": {
      "text/plain": "2    2018-11-01 21:01:46.796\n4    2018-11-01 21:05:52.796\n5    2018-11-01 21:08:16.796\n6    2018-11-01 21:11:13.796\n7    2018-11-01 21:17:33.796\n8    2018-11-01 21:24:53.796\n9    2018-11-01 21:28:54.796\n10   2018-11-01 21:42:00.796\n12   2018-11-01 21:52:05.796\n13   2018-11-01 21:55:25.796\n14   2018-11-01 22:23:14.796\nName: ts, dtype: datetime64[ns]"
     },
     "execution_count": 102,
     "metadata": {},
     "output_type": "execute_result"
    }
   ],
   "source": [
    "t"
   ]
  },
  {
   "cell_type": "code",
   "execution_count": 103,
   "metadata": {},
   "outputs": [],
   "source": [
    "time_data = list((t,t.dt.hour,t.dt.day,t.dt.weekofyear,t.dt.month,t.dt.year,t.dt.weekday))\n",
    "column_labels = list(('start_time', 'hour', 'day', 'week', 'month', 'year', 'weekday'))"
   ]
  },
  {
   "cell_type": "code",
   "execution_count": 104,
   "metadata": {},
   "outputs": [],
   "source": [
    "time_df = pd.DataFrame.from_dict(dict(zip(column_labels,time_data)))"
   ]
  },
  {
   "cell_type": "code",
   "execution_count": 105,
   "metadata": {},
   "outputs": [
    {
     "data": {
      "text/html": "<div>\n<style scoped>\n    .dataframe tbody tr th:only-of-type {\n        vertical-align: middle;\n    }\n\n    .dataframe tbody tr th {\n        vertical-align: top;\n    }\n\n    .dataframe thead th {\n        text-align: right;\n    }\n</style>\n<table border=\"1\" class=\"dataframe\">\n  <thead>\n    <tr style=\"text-align: right;\">\n      <th></th>\n      <th>start_time</th>\n      <th>hour</th>\n      <th>day</th>\n      <th>week</th>\n      <th>month</th>\n      <th>year</th>\n      <th>weekday</th>\n    </tr>\n  </thead>\n  <tbody>\n    <tr>\n      <th>2</th>\n      <td>2018-11-01 21:01:46.796</td>\n      <td>21</td>\n      <td>1</td>\n      <td>44</td>\n      <td>11</td>\n      <td>2018</td>\n      <td>3</td>\n    </tr>\n    <tr>\n      <th>4</th>\n      <td>2018-11-01 21:05:52.796</td>\n      <td>21</td>\n      <td>1</td>\n      <td>44</td>\n      <td>11</td>\n      <td>2018</td>\n      <td>3</td>\n    </tr>\n    <tr>\n      <th>5</th>\n      <td>2018-11-01 21:08:16.796</td>\n      <td>21</td>\n      <td>1</td>\n      <td>44</td>\n      <td>11</td>\n      <td>2018</td>\n      <td>3</td>\n    </tr>\n    <tr>\n      <th>6</th>\n      <td>2018-11-01 21:11:13.796</td>\n      <td>21</td>\n      <td>1</td>\n      <td>44</td>\n      <td>11</td>\n      <td>2018</td>\n      <td>3</td>\n    </tr>\n    <tr>\n      <th>7</th>\n      <td>2018-11-01 21:17:33.796</td>\n      <td>21</td>\n      <td>1</td>\n      <td>44</td>\n      <td>11</td>\n      <td>2018</td>\n      <td>3</td>\n    </tr>\n  </tbody>\n</table>\n</div>",
      "text/plain": "               start_time  hour  day  week  month  year  weekday\n2 2018-11-01 21:01:46.796    21    1    44     11  2018        3\n4 2018-11-01 21:05:52.796    21    1    44     11  2018        3\n5 2018-11-01 21:08:16.796    21    1    44     11  2018        3\n6 2018-11-01 21:11:13.796    21    1    44     11  2018        3\n7 2018-11-01 21:17:33.796    21    1    44     11  2018        3"
     },
     "execution_count": 105,
     "metadata": {},
     "output_type": "execute_result"
    }
   ],
   "source": [
    "time_df.head()"
   ]
  },
  {
   "cell_type": "code",
   "execution_count": 106,
   "metadata": {},
   "outputs": [],
   "source": [
    "# Now let's insert the record into Time table\n",
    "\n",
    "for i,row in time_df.iterrows():\n",
    "    cur.execute(time_table_insert,list(row))\n",
    "    Sparkify_db.commit()"
   ]
  },
  {
   "cell_type": "markdown",
   "execution_count": null,
   "metadata": {},
   "outputs": [],
   "source": [
    "## Users table"
   ]
  },
  {
   "cell_type": "code",
   "execution_count": 107,
   "metadata": {},
   "outputs": [
    {
     "data": {
      "text/html": "<div>\n<style scoped>\n    .dataframe tbody tr th:only-of-type {\n        vertical-align: middle;\n    }\n\n    .dataframe tbody tr th {\n        vertical-align: top;\n    }\n\n    .dataframe thead th {\n        text-align: right;\n    }\n</style>\n<table border=\"1\" class=\"dataframe\">\n  <thead>\n    <tr style=\"text-align: right;\">\n      <th></th>\n      <th>artist</th>\n      <th>auth</th>\n      <th>firstName</th>\n      <th>gender</th>\n      <th>itemInSession</th>\n      <th>lastName</th>\n      <th>length</th>\n      <th>level</th>\n      <th>location</th>\n      <th>method</th>\n      <th>page</th>\n      <th>registration</th>\n      <th>sessionId</th>\n      <th>song</th>\n      <th>status</th>\n      <th>ts</th>\n      <th>userAgent</th>\n      <th>userId</th>\n    </tr>\n  </thead>\n  <tbody>\n    <tr>\n      <th>2</th>\n      <td>Des'ree</td>\n      <td>Logged In</td>\n      <td>Kaylee</td>\n      <td>F</td>\n      <td>1</td>\n      <td>Summers</td>\n      <td>246.30812</td>\n      <td>free</td>\n      <td>Phoenix-Mesa-Scottsdale, AZ</td>\n      <td>PUT</td>\n      <td>NextSong</td>\n      <td>1540344794796</td>\n      <td>139</td>\n      <td>You Gotta Be</td>\n      <td>200</td>\n      <td>2018-11-01 21:01:46.796</td>\n      <td>\"Mozilla/5.0 (Windows NT 6.1; WOW64) AppleWebK...</td>\n      <td>8</td>\n    </tr>\n    <tr>\n      <th>4</th>\n      <td>Mr Oizo</td>\n      <td>Logged In</td>\n      <td>Kaylee</td>\n      <td>F</td>\n      <td>3</td>\n      <td>Summers</td>\n      <td>144.03873</td>\n      <td>free</td>\n      <td>Phoenix-Mesa-Scottsdale, AZ</td>\n      <td>PUT</td>\n      <td>NextSong</td>\n      <td>1540344794796</td>\n      <td>139</td>\n      <td>Flat 55</td>\n      <td>200</td>\n      <td>2018-11-01 21:05:52.796</td>\n      <td>\"Mozilla/5.0 (Windows NT 6.1; WOW64) AppleWebK...</td>\n      <td>8</td>\n    </tr>\n  </tbody>\n</table>\n</div>",
      "text/plain": "    artist       auth firstName gender  itemInSession lastName     length  \\\n2  Des'ree  Logged In    Kaylee      F              1  Summers  246.30812   \n4  Mr Oizo  Logged In    Kaylee      F              3  Summers  144.03873   \n\n  level                     location method      page   registration  \\\n2  free  Phoenix-Mesa-Scottsdale, AZ    PUT  NextSong  1540344794796   \n4  free  Phoenix-Mesa-Scottsdale, AZ    PUT  NextSong  1540344794796   \n\n   sessionId          song  status                      ts  \\\n2        139  You Gotta Be     200 2018-11-01 21:01:46.796   \n4        139       Flat 55     200 2018-11-01 21:05:52.796   \n\n                                           userAgent  userId  \n2  \"Mozilla/5.0 (Windows NT 6.1; WOW64) AppleWebK...       8  \n4  \"Mozilla/5.0 (Windows NT 6.1; WOW64) AppleWebK...       8  "
     },
     "execution_count": 107,
     "metadata": {},
     "output_type": "execute_result"
    }
   ],
   "source": [
    "df_log.head(2)"
   ]
  },
  {
   "cell_type": "code",
   "execution_count": 108,
   "metadata": {},
   "outputs": [
    {
     "data": {
      "text/html": "<div>\n<style scoped>\n    .dataframe tbody tr th:only-of-type {\n        vertical-align: middle;\n    }\n\n    .dataframe tbody tr th {\n        vertical-align: top;\n    }\n\n    .dataframe thead th {\n        text-align: right;\n    }\n</style>\n<table border=\"1\" class=\"dataframe\">\n  <thead>\n    <tr style=\"text-align: right;\">\n      <th></th>\n      <th>userId</th>\n      <th>firstName</th>\n      <th>lastName</th>\n      <th>gender</th>\n      <th>level</th>\n    </tr>\n  </thead>\n  <tbody>\n    <tr>\n      <th>2</th>\n      <td>8</td>\n      <td>Kaylee</td>\n      <td>Summers</td>\n      <td>F</td>\n      <td>free</td>\n    </tr>\n    <tr>\n      <th>4</th>\n      <td>8</td>\n      <td>Kaylee</td>\n      <td>Summers</td>\n      <td>F</td>\n      <td>free</td>\n    </tr>\n    <tr>\n      <th>5</th>\n      <td>8</td>\n      <td>Kaylee</td>\n      <td>Summers</td>\n      <td>F</td>\n      <td>free</td>\n    </tr>\n  </tbody>\n</table>\n</div>",
      "text/plain": "   userId firstName lastName gender level\n2       8    Kaylee  Summers      F  free\n4       8    Kaylee  Summers      F  free\n5       8    Kaylee  Summers      F  free"
     },
     "execution_count": 108,
     "metadata": {},
     "output_type": "execute_result"
    }
   ],
   "source": [
    "# Let's Extract data for User's table\n",
    "users_df = df_log[['userId','firstName','lastName','gender','level']]\n",
    "\n",
    "users_df.head(3)\n"
   ]
  },
  {
   "cell_type": "code",
   "execution_count": 109,
   "metadata": {},
   "outputs": [],
   "source": [
    "# Insert record in user's table\n",
    "\n",
    "for i,row in users_df.iterrows():\n",
    "    cur.execute(user_table_insert,list(row))\n",
    "    Sparkify_db.commit()"
   ]
  },
  {
   "cell_type": "markdown",
   "execution_count": null,
   "metadata": {},
   "outputs": [],
   "source": [
    "## Fact table :  SongPlay table\n",
    "### required data : songplay_id, start_time, user_id, level, song_id, artist_id, session_id, location, user_agent"
   ]
  },
  {
   "cell_type": "code",
   "execution_count": 110,
   "metadata": {},
   "outputs": [
    {
     "data": {
      "text/html": "<div>\n<style scoped>\n    .dataframe tbody tr th:only-of-type {\n        vertical-align: middle;\n    }\n\n    .dataframe tbody tr th {\n        vertical-align: top;\n    }\n\n    .dataframe thead th {\n        text-align: right;\n    }\n</style>\n<table border=\"1\" class=\"dataframe\">\n  <thead>\n    <tr style=\"text-align: right;\">\n      <th></th>\n      <th>artist_id</th>\n      <th>artist_latitude</th>\n      <th>artist_location</th>\n      <th>artist_longitude</th>\n      <th>artist_name</th>\n      <th>duration</th>\n      <th>num_songs</th>\n      <th>song_id</th>\n      <th>title</th>\n      <th>year</th>\n    </tr>\n  </thead>\n  <tbody>\n    <tr>\n      <th>0</th>\n      <td>ARMJAGH1187FB546F3</td>\n      <td>35.14968</td>\n      <td>Memphis, TN</td>\n      <td>-90.04892</td>\n      <td>The Box Tops</td>\n      <td>148.03546</td>\n      <td>1</td>\n      <td>SOCIWDW12A8C13D406</td>\n      <td>Soul Deep</td>\n      <td>1969</td>\n    </tr>\n  </tbody>\n</table>\n</div>",
      "text/plain": "            artist_id  artist_latitude artist_location  artist_longitude  \\\n0  ARMJAGH1187FB546F3         35.14968     Memphis, TN         -90.04892   \n\n    artist_name   duration  num_songs             song_id      title  year  \n0  The Box Tops  148.03546          1  SOCIWDW12A8C13D406  Soul Deep  1969  "
     },
     "execution_count": 110,
     "metadata": {},
     "output_type": "execute_result"
    }
   ],
   "source": [
    "df.head(2)"
   ]
  },
  {
   "cell_type": "code",
   "execution_count": 111,
   "metadata": {},
   "outputs": [
    {
     "data": {
      "text/html": "<div>\n<style scoped>\n    .dataframe tbody tr th:only-of-type {\n        vertical-align: middle;\n    }\n\n    .dataframe tbody tr th {\n        vertical-align: top;\n    }\n\n    .dataframe thead th {\n        text-align: right;\n    }\n</style>\n<table border=\"1\" class=\"dataframe\">\n  <thead>\n    <tr style=\"text-align: right;\">\n      <th></th>\n      <th>artist</th>\n      <th>auth</th>\n      <th>firstName</th>\n      <th>gender</th>\n      <th>itemInSession</th>\n      <th>lastName</th>\n      <th>length</th>\n      <th>level</th>\n      <th>location</th>\n      <th>method</th>\n      <th>page</th>\n      <th>registration</th>\n      <th>sessionId</th>\n      <th>song</th>\n      <th>status</th>\n      <th>ts</th>\n      <th>userAgent</th>\n      <th>userId</th>\n    </tr>\n  </thead>\n  <tbody>\n    <tr>\n      <th>2</th>\n      <td>Des'ree</td>\n      <td>Logged In</td>\n      <td>Kaylee</td>\n      <td>F</td>\n      <td>1</td>\n      <td>Summers</td>\n      <td>246.30812</td>\n      <td>free</td>\n      <td>Phoenix-Mesa-Scottsdale, AZ</td>\n      <td>PUT</td>\n      <td>NextSong</td>\n      <td>1540344794796</td>\n      <td>139</td>\n      <td>You Gotta Be</td>\n      <td>200</td>\n      <td>2018-11-01 21:01:46.796</td>\n      <td>\"Mozilla/5.0 (Windows NT 6.1; WOW64) AppleWebK...</td>\n      <td>8</td>\n    </tr>\n    <tr>\n      <th>4</th>\n      <td>Mr Oizo</td>\n      <td>Logged In</td>\n      <td>Kaylee</td>\n      <td>F</td>\n      <td>3</td>\n      <td>Summers</td>\n      <td>144.03873</td>\n      <td>free</td>\n      <td>Phoenix-Mesa-Scottsdale, AZ</td>\n      <td>PUT</td>\n      <td>NextSong</td>\n      <td>1540344794796</td>\n      <td>139</td>\n      <td>Flat 55</td>\n      <td>200</td>\n      <td>2018-11-01 21:05:52.796</td>\n      <td>\"Mozilla/5.0 (Windows NT 6.1; WOW64) AppleWebK...</td>\n      <td>8</td>\n    </tr>\n  </tbody>\n</table>\n</div>",
      "text/plain": "    artist       auth firstName gender  itemInSession lastName     length  \\\n2  Des'ree  Logged In    Kaylee      F              1  Summers  246.30812   \n4  Mr Oizo  Logged In    Kaylee      F              3  Summers  144.03873   \n\n  level                     location method      page   registration  \\\n2  free  Phoenix-Mesa-Scottsdale, AZ    PUT  NextSong  1540344794796   \n4  free  Phoenix-Mesa-Scottsdale, AZ    PUT  NextSong  1540344794796   \n\n   sessionId          song  status                      ts  \\\n2        139  You Gotta Be     200 2018-11-01 21:01:46.796   \n4        139       Flat 55     200 2018-11-01 21:05:52.796   \n\n                                           userAgent  userId  \n2  \"Mozilla/5.0 (Windows NT 6.1; WOW64) AppleWebK...       8  \n4  \"Mozilla/5.0 (Windows NT 6.1; WOW64) AppleWebK...       8  "
     },
     "execution_count": 111,
     "metadata": {},
     "output_type": "execute_result"
    }
   ],
   "source": [
    "df_log.head(2)"
   ]
  },
  {
   "cell_type": "code",
   "execution_count": 112,
   "metadata": {},
   "outputs": [
    {
     "name": "stdout",
     "output_type": "stream",
     "text": "('You Gotta Be', \"Des'ree\", 246.30812)\n('Flat 55', 'Mr Oizo', 144.03873)\n('Quem Quiser Encontrar O Amor', 'Tamba Trio', 177.18812)\n('Eriatarka', 'The Mars Volta', 380.42077)\n('Becoming Insane', 'Infected Mushroom', 440.2673)\n('Congratulations', 'Blue October / Imogen Heap', 241.3971)\n('Once again', 'Girl Talk', 160.15628)\n('Pump It', 'Black Eyed Peas', 214.93506)\n('Nobody Puts Baby In The Corner', 'Fall Out Boy', 200.72444)\n('Mango Pickle Down River (With The Wilcannia Mob)', 'M.I.A.', 233.7171)\n('Eye Of The Tiger', 'Survivor', 245.36771)\n"
    }
   ],
   "source": [
    "# First we have to run song_select query to fetch song_id and artist_id , then we will fetch rest of the fields required for songplays table  from df_log\n",
    "\n",
    "for index,row in df_log.iterrows():\n",
    "    print((row.song,row.artist,row.length))\n",
    "    cur.execute(song_select,(row.song,row.artist,row.length))\n",
    "\n",
    "    res  = cur.fetchone()\n",
    "    if res:\n",
    "        songid,artistid = res\n",
    "    else:\n",
    "        songid,artistid = None,None\n",
    "    # insert into songplays table\n",
    "    songplay_data = (index, row.ts, row.userId, row.level, songid, artistid, row.sessionId,\\\n",
    "                     row.location, row.userAgent)\n",
    "    cur.execute(songplay_table_insert, songplay_data)\n",
    "    Sparkify_db.commit()\n",
    "    "
   ]
  },
  {
   "cell_type": "code",
   "execution_count": 113,
   "metadata": {},
   "outputs": [],
   "source": [
    "Sparkify_db.close()"
   ]
  },
  {
   "cell_type": "code",
   "execution_count": null,
   "metadata": {},
   "outputs": [],
   "source": []
  },
  {
   "cell_type": "code",
   "execution_count": null,
   "metadata": {},
   "outputs": [],
   "source": []
  },
  {
   "cell_type": "code",
   "execution_count": null,
   "metadata": {},
   "outputs": [],
   "source": []
  },
  {
   "cell_type": "code",
   "execution_count": null,
   "metadata": {},
   "outputs": [],
   "source": []
  },
  {
   "cell_type": "code",
   "execution_count": null,
   "metadata": {},
   "outputs": [],
   "source": []
  }
 ],
 "metadata": {
  "kernelspec": {
   "display_name": "Python 3",
   "language": "python",
   "name": "python3"
  },
  "language_info": {
   "codemirror_mode": {
    "name": "ipython",
    "version": 3
   },
   "file_extension": ".py",
   "mimetype": "text/x-python",
   "name": "python",
   "nbconvert_exporter": "python",
   "pygments_lexer": "ipython3",
   "version": "3.7.3"
  }
 },
 "nbformat": 4,
 "nbformat_minor": 2
}